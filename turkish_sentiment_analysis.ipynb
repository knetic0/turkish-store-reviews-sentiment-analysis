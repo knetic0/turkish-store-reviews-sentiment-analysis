{
  "nbformat": 4,
  "nbformat_minor": 0,
  "metadata": {
    "colab": {
      "provenance": [],
      "gpuType": "T4",
      "authorship_tag": "ABX9TyPTeN5Xab6vx/gcxL+7wUYj",
      "include_colab_link": true
    },
    "kernelspec": {
      "name": "python3",
      "display_name": "Python 3"
    },
    "language_info": {
      "name": "python"
    },
    "accelerator": "GPU"
  },
  "cells": [
    {
      "cell_type": "markdown",
      "metadata": {
        "id": "view-in-github",
        "colab_type": "text"
      },
      "source": [
        "<a href=\"https://colab.research.google.com/github/knetic0/turkish-store-reviews-sentiment-analysis/blob/master/turkish_sentiment_analysis.ipynb\" target=\"_parent\"><img src=\"https://colab.research.google.com/assets/colab-badge.svg\" alt=\"Open In Colab\"/></a>"
      ]
    },
    {
      "cell_type": "code",
      "execution_count": 112,
      "metadata": {
        "colab": {
          "base_uri": "https://localhost:8080/"
        },
        "id": "xm5Nxn-0DK5v",
        "outputId": "37edef76-094b-4afb-9caa-508cc40d86d0"
      },
      "outputs": [
        {
          "output_type": "stream",
          "name": "stderr",
          "text": [
            "[nltk_data] Downloading package stopwords to /root/nltk_data...\n",
            "[nltk_data]   Package stopwords is already up-to-date!\n"
          ]
        }
      ],
      "source": [
        "import pandas as pd\n",
        "import chardet\n",
        "import re\n",
        "from collections import Counter\n",
        "import torch\n",
        "import torch.nn as nn\n",
        "from torch.nn.utils.rnn import pad_sequence\n",
        "from torch.utils.data import Dataset, DataLoader\n",
        "import nltk\n",
        "nltk.download(\"stopwords\")\n",
        "from nltk.corpus import stopwords"
      ]
    },
    {
      "cell_type": "code",
      "source": [
        "file_path = \"./sample_data/magaza_yorumlari_duygu_analizi.csv\"\n",
        "\n",
        "with open(file_path, 'rb') as f:\n",
        "  result = chardet.detect(f.read(1000))\n",
        "\n",
        "df = pd.read_csv(file_path, encoding=result[\"encoding\"])\n",
        "\n",
        "df.head()"
      ],
      "metadata": {
        "colab": {
          "base_uri": "https://localhost:8080/",
          "height": 206
        },
        "id": "5JPqB7KHDdVA",
        "outputId": "f34333e2-ebdc-4f3a-8d19-8e43ec904912"
      },
      "execution_count": 113,
      "outputs": [
        {
          "output_type": "execute_result",
          "data": {
            "text/plain": [
              "                                               Görüş     Durum\n",
              "0  ses kalitesi ve ergonomisi rezalet, sony olduğ...   Olumsuz\n",
              "1                         hizli teslimat tesekkürler  Tarafsız\n",
              "2  ses olayı süper....gece çalıştır sıkıntı yok.....    Olumlu\n",
              "3  geldi bigün kullandık hemen bozoldu hiçtavsiye...   Olumsuz\n",
              "4  Kulaklığın sesi kaliteli falan değil. Aleti öv...   Olumsuz"
            ],
            "text/html": [
              "\n",
              "  <div id=\"df-1d0dc623-c0d2-4034-9e1d-4f9322db9457\" class=\"colab-df-container\">\n",
              "    <div>\n",
              "<style scoped>\n",
              "    .dataframe tbody tr th:only-of-type {\n",
              "        vertical-align: middle;\n",
              "    }\n",
              "\n",
              "    .dataframe tbody tr th {\n",
              "        vertical-align: top;\n",
              "    }\n",
              "\n",
              "    .dataframe thead th {\n",
              "        text-align: right;\n",
              "    }\n",
              "</style>\n",
              "<table border=\"1\" class=\"dataframe\">\n",
              "  <thead>\n",
              "    <tr style=\"text-align: right;\">\n",
              "      <th></th>\n",
              "      <th>Görüş</th>\n",
              "      <th>Durum</th>\n",
              "    </tr>\n",
              "  </thead>\n",
              "  <tbody>\n",
              "    <tr>\n",
              "      <th>0</th>\n",
              "      <td>ses kalitesi ve ergonomisi rezalet, sony olduğ...</td>\n",
              "      <td>Olumsuz</td>\n",
              "    </tr>\n",
              "    <tr>\n",
              "      <th>1</th>\n",
              "      <td>hizli teslimat tesekkürler</td>\n",
              "      <td>Tarafsız</td>\n",
              "    </tr>\n",
              "    <tr>\n",
              "      <th>2</th>\n",
              "      <td>ses olayı süper....gece çalıştır sıkıntı yok.....</td>\n",
              "      <td>Olumlu</td>\n",
              "    </tr>\n",
              "    <tr>\n",
              "      <th>3</th>\n",
              "      <td>geldi bigün kullandık hemen bozoldu hiçtavsiye...</td>\n",
              "      <td>Olumsuz</td>\n",
              "    </tr>\n",
              "    <tr>\n",
              "      <th>4</th>\n",
              "      <td>Kulaklığın sesi kaliteli falan değil. Aleti öv...</td>\n",
              "      <td>Olumsuz</td>\n",
              "    </tr>\n",
              "  </tbody>\n",
              "</table>\n",
              "</div>\n",
              "    <div class=\"colab-df-buttons\">\n",
              "\n",
              "  <div class=\"colab-df-container\">\n",
              "    <button class=\"colab-df-convert\" onclick=\"convertToInteractive('df-1d0dc623-c0d2-4034-9e1d-4f9322db9457')\"\n",
              "            title=\"Convert this dataframe to an interactive table.\"\n",
              "            style=\"display:none;\">\n",
              "\n",
              "  <svg xmlns=\"http://www.w3.org/2000/svg\" height=\"24px\" viewBox=\"0 -960 960 960\">\n",
              "    <path d=\"M120-120v-720h720v720H120Zm60-500h600v-160H180v160Zm220 220h160v-160H400v160Zm0 220h160v-160H400v160ZM180-400h160v-160H180v160Zm440 0h160v-160H620v160ZM180-180h160v-160H180v160Zm440 0h160v-160H620v160Z\"/>\n",
              "  </svg>\n",
              "    </button>\n",
              "\n",
              "  <style>\n",
              "    .colab-df-container {\n",
              "      display:flex;\n",
              "      gap: 12px;\n",
              "    }\n",
              "\n",
              "    .colab-df-convert {\n",
              "      background-color: #E8F0FE;\n",
              "      border: none;\n",
              "      border-radius: 50%;\n",
              "      cursor: pointer;\n",
              "      display: none;\n",
              "      fill: #1967D2;\n",
              "      height: 32px;\n",
              "      padding: 0 0 0 0;\n",
              "      width: 32px;\n",
              "    }\n",
              "\n",
              "    .colab-df-convert:hover {\n",
              "      background-color: #E2EBFA;\n",
              "      box-shadow: 0px 1px 2px rgba(60, 64, 67, 0.3), 0px 1px 3px 1px rgba(60, 64, 67, 0.15);\n",
              "      fill: #174EA6;\n",
              "    }\n",
              "\n",
              "    .colab-df-buttons div {\n",
              "      margin-bottom: 4px;\n",
              "    }\n",
              "\n",
              "    [theme=dark] .colab-df-convert {\n",
              "      background-color: #3B4455;\n",
              "      fill: #D2E3FC;\n",
              "    }\n",
              "\n",
              "    [theme=dark] .colab-df-convert:hover {\n",
              "      background-color: #434B5C;\n",
              "      box-shadow: 0px 1px 3px 1px rgba(0, 0, 0, 0.15);\n",
              "      filter: drop-shadow(0px 1px 2px rgba(0, 0, 0, 0.3));\n",
              "      fill: #FFFFFF;\n",
              "    }\n",
              "  </style>\n",
              "\n",
              "    <script>\n",
              "      const buttonEl =\n",
              "        document.querySelector('#df-1d0dc623-c0d2-4034-9e1d-4f9322db9457 button.colab-df-convert');\n",
              "      buttonEl.style.display =\n",
              "        google.colab.kernel.accessAllowed ? 'block' : 'none';\n",
              "\n",
              "      async function convertToInteractive(key) {\n",
              "        const element = document.querySelector('#df-1d0dc623-c0d2-4034-9e1d-4f9322db9457');\n",
              "        const dataTable =\n",
              "          await google.colab.kernel.invokeFunction('convertToInteractive',\n",
              "                                                    [key], {});\n",
              "        if (!dataTable) return;\n",
              "\n",
              "        const docLinkHtml = 'Like what you see? Visit the ' +\n",
              "          '<a target=\"_blank\" href=https://colab.research.google.com/notebooks/data_table.ipynb>data table notebook</a>'\n",
              "          + ' to learn more about interactive tables.';\n",
              "        element.innerHTML = '';\n",
              "        dataTable['output_type'] = 'display_data';\n",
              "        await google.colab.output.renderOutput(dataTable, element);\n",
              "        const docLink = document.createElement('div');\n",
              "        docLink.innerHTML = docLinkHtml;\n",
              "        element.appendChild(docLink);\n",
              "      }\n",
              "    </script>\n",
              "  </div>\n",
              "\n",
              "\n",
              "<div id=\"df-c8a77b5b-4cdc-4bf3-ab4e-6c0d5f72bff8\">\n",
              "  <button class=\"colab-df-quickchart\" onclick=\"quickchart('df-c8a77b5b-4cdc-4bf3-ab4e-6c0d5f72bff8')\"\n",
              "            title=\"Suggest charts\"\n",
              "            style=\"display:none;\">\n",
              "\n",
              "<svg xmlns=\"http://www.w3.org/2000/svg\" height=\"24px\"viewBox=\"0 0 24 24\"\n",
              "     width=\"24px\">\n",
              "    <g>\n",
              "        <path d=\"M19 3H5c-1.1 0-2 .9-2 2v14c0 1.1.9 2 2 2h14c1.1 0 2-.9 2-2V5c0-1.1-.9-2-2-2zM9 17H7v-7h2v7zm4 0h-2V7h2v10zm4 0h-2v-4h2v4z\"/>\n",
              "    </g>\n",
              "</svg>\n",
              "  </button>\n",
              "\n",
              "<style>\n",
              "  .colab-df-quickchart {\n",
              "      --bg-color: #E8F0FE;\n",
              "      --fill-color: #1967D2;\n",
              "      --hover-bg-color: #E2EBFA;\n",
              "      --hover-fill-color: #174EA6;\n",
              "      --disabled-fill-color: #AAA;\n",
              "      --disabled-bg-color: #DDD;\n",
              "  }\n",
              "\n",
              "  [theme=dark] .colab-df-quickchart {\n",
              "      --bg-color: #3B4455;\n",
              "      --fill-color: #D2E3FC;\n",
              "      --hover-bg-color: #434B5C;\n",
              "      --hover-fill-color: #FFFFFF;\n",
              "      --disabled-bg-color: #3B4455;\n",
              "      --disabled-fill-color: #666;\n",
              "  }\n",
              "\n",
              "  .colab-df-quickchart {\n",
              "    background-color: var(--bg-color);\n",
              "    border: none;\n",
              "    border-radius: 50%;\n",
              "    cursor: pointer;\n",
              "    display: none;\n",
              "    fill: var(--fill-color);\n",
              "    height: 32px;\n",
              "    padding: 0;\n",
              "    width: 32px;\n",
              "  }\n",
              "\n",
              "  .colab-df-quickchart:hover {\n",
              "    background-color: var(--hover-bg-color);\n",
              "    box-shadow: 0 1px 2px rgba(60, 64, 67, 0.3), 0 1px 3px 1px rgba(60, 64, 67, 0.15);\n",
              "    fill: var(--button-hover-fill-color);\n",
              "  }\n",
              "\n",
              "  .colab-df-quickchart-complete:disabled,\n",
              "  .colab-df-quickchart-complete:disabled:hover {\n",
              "    background-color: var(--disabled-bg-color);\n",
              "    fill: var(--disabled-fill-color);\n",
              "    box-shadow: none;\n",
              "  }\n",
              "\n",
              "  .colab-df-spinner {\n",
              "    border: 2px solid var(--fill-color);\n",
              "    border-color: transparent;\n",
              "    border-bottom-color: var(--fill-color);\n",
              "    animation:\n",
              "      spin 1s steps(1) infinite;\n",
              "  }\n",
              "\n",
              "  @keyframes spin {\n",
              "    0% {\n",
              "      border-color: transparent;\n",
              "      border-bottom-color: var(--fill-color);\n",
              "      border-left-color: var(--fill-color);\n",
              "    }\n",
              "    20% {\n",
              "      border-color: transparent;\n",
              "      border-left-color: var(--fill-color);\n",
              "      border-top-color: var(--fill-color);\n",
              "    }\n",
              "    30% {\n",
              "      border-color: transparent;\n",
              "      border-left-color: var(--fill-color);\n",
              "      border-top-color: var(--fill-color);\n",
              "      border-right-color: var(--fill-color);\n",
              "    }\n",
              "    40% {\n",
              "      border-color: transparent;\n",
              "      border-right-color: var(--fill-color);\n",
              "      border-top-color: var(--fill-color);\n",
              "    }\n",
              "    60% {\n",
              "      border-color: transparent;\n",
              "      border-right-color: var(--fill-color);\n",
              "    }\n",
              "    80% {\n",
              "      border-color: transparent;\n",
              "      border-right-color: var(--fill-color);\n",
              "      border-bottom-color: var(--fill-color);\n",
              "    }\n",
              "    90% {\n",
              "      border-color: transparent;\n",
              "      border-bottom-color: var(--fill-color);\n",
              "    }\n",
              "  }\n",
              "</style>\n",
              "\n",
              "  <script>\n",
              "    async function quickchart(key) {\n",
              "      const quickchartButtonEl =\n",
              "        document.querySelector('#' + key + ' button');\n",
              "      quickchartButtonEl.disabled = true;  // To prevent multiple clicks.\n",
              "      quickchartButtonEl.classList.add('colab-df-spinner');\n",
              "      try {\n",
              "        const charts = await google.colab.kernel.invokeFunction(\n",
              "            'suggestCharts', [key], {});\n",
              "      } catch (error) {\n",
              "        console.error('Error during call to suggestCharts:', error);\n",
              "      }\n",
              "      quickchartButtonEl.classList.remove('colab-df-spinner');\n",
              "      quickchartButtonEl.classList.add('colab-df-quickchart-complete');\n",
              "    }\n",
              "    (() => {\n",
              "      let quickchartButtonEl =\n",
              "        document.querySelector('#df-c8a77b5b-4cdc-4bf3-ab4e-6c0d5f72bff8 button');\n",
              "      quickchartButtonEl.style.display =\n",
              "        google.colab.kernel.accessAllowed ? 'block' : 'none';\n",
              "    })();\n",
              "  </script>\n",
              "</div>\n",
              "\n",
              "    </div>\n",
              "  </div>\n"
            ],
            "application/vnd.google.colaboratory.intrinsic+json": {
              "type": "dataframe",
              "variable_name": "df",
              "summary": "{\n  \"name\": \"df\",\n  \"rows\": 11429,\n  \"fields\": [\n    {\n      \"column\": \"G\\u00f6r\\u00fc\\u015f\",\n      \"properties\": {\n        \"dtype\": \"string\",\n        \"num_unique_values\": 11407,\n        \"samples\": [\n          \"Urunde bir sikinti yoktu ama klavye ingilizce klavye olarak reklam edilmis. Urunun Foto\\u011fraflarinda da ingilizce klavye olarak gotuluyordu fakat turkce klavye geldi.\",\n          \"\\u00fcr\\u00fcn\\u00fc gold master diye ald\\u0131m. 10 y\\u0131l garantili. televizyona takt\\u0131m. hdm\\u0131\\nolarak kullan\\u0131yorum. ancak arada uydu \\u00e7al\\u0131\\u015fm\\u0131yor. kablolar\\u0131n\\u0131 c\\u0131kar\\u0131p\\ntak\\u0131yorum d\\u00fczeliyor. ancak ar\\u0131zal\\u0131. servisine g\\u00f6t\\u00fcrmekle ugrasamad\\u0131m.\\nkenarda \\u00f6ylece duruyor.\",\n          \"Bir sene olmad\\u0131 ayar d\\u00fc\\u011fmesine bas\\u0131yorum ekran gidip geliyor\"\n        ],\n        \"semantic_type\": \"\",\n        \"description\": \"\"\n      }\n    },\n    {\n      \"column\": \"Durum\",\n      \"properties\": {\n        \"dtype\": \"category\",\n        \"num_unique_values\": 3,\n        \"samples\": [\n          \"Olumsuz\",\n          \"Tarafs\\u0131z\",\n          \"Olumlu\"\n        ],\n        \"semantic_type\": \"\",\n        \"description\": \"\"\n      }\n    }\n  ]\n}"
            }
          },
          "metadata": {},
          "execution_count": 113
        }
      ]
    },
    {
      "cell_type": "code",
      "source": [
        "df.dropna(inplace=True)\n",
        "df.reset_index(drop=True, inplace=True)\n",
        "\n",
        "print(\"First 5 Row: \")\n",
        "print(df.head())\n",
        "\n",
        "print(\"*\"*25)\n",
        "\n",
        "print(\"Describe about Dataset: \")\n",
        "print(df.describe())\n",
        "\n",
        "print(\"*\"*25)\n",
        "\n",
        "print(\"Unique values of Situation: \")\n",
        "print(df[\"Durum\"].unique())"
      ],
      "metadata": {
        "colab": {
          "base_uri": "https://localhost:8080/"
        },
        "id": "yWbbefzCDg0B",
        "outputId": "a68548dc-5786-46fb-da45-91398682fa84"
      },
      "execution_count": 114,
      "outputs": [
        {
          "output_type": "stream",
          "name": "stdout",
          "text": [
            "First 5 Row: \n",
            "                                               Görüş     Durum\n",
            "0  ses kalitesi ve ergonomisi rezalet, sony olduğ...   Olumsuz\n",
            "1                         hizli teslimat tesekkürler  Tarafsız\n",
            "2  ses olayı süper....gece çalıştır sıkıntı yok.....    Olumlu\n",
            "3  geldi bigün kullandık hemen bozoldu hiçtavsiye...   Olumsuz\n",
            "4  Kulaklığın sesi kaliteli falan değil. Aleti öv...   Olumsuz\n",
            "*************************\n",
            "Describe about Dataset: \n",
            "             Görüş   Durum\n",
            "count        11426   11426\n",
            "unique       11407       3\n",
            "top     İdare eder  Olumlu\n",
            "freq             3    4252\n",
            "*************************\n",
            "Unique values of Situation: \n",
            "['Olumsuz' 'Tarafsız' 'Olumlu']\n"
          ]
        }
      ]
    },
    {
      "cell_type": "markdown",
      "source": [
        "- Olumsuz -> 0\n",
        "- Tarafsiz -> 1\n",
        "- Olumlu -> 2\n"
      ],
      "metadata": {
        "id": "CASbuqUzFXzC"
      }
    },
    {
      "cell_type": "code",
      "source": [
        "label_mapping = {\n",
        "    \"Olumsuz\": 0,\n",
        "    \"Tarafsız\": 1,\n",
        "    \"Olumlu\": 2\n",
        "}"
      ],
      "metadata": {
        "id": "hVw7lzf7NN4N"
      },
      "execution_count": 115,
      "outputs": []
    },
    {
      "cell_type": "code",
      "source": [
        "def simple_tokenizer(text:str):\n",
        "    text = text.lower()\n",
        "    tokens = re.findall(r'\\b\\w+\\b', text)\n",
        "    return tokens"
      ],
      "metadata": {
        "id": "MMTiw_XzIcVf"
      },
      "execution_count": 116,
      "outputs": []
    },
    {
      "cell_type": "code",
      "source": [
        "turkish_stopwords = set(stopwords.words(\"turkish\"))\n",
        "\n",
        "all_tokens = []\n",
        "for text in df[\"Görüş\"]:\n",
        "    tokens = simple_tokenizer(text)\n",
        "    tokens = [token for token in tokens if token not in turkish_stopwords]\n",
        "    all_tokens.extend(tokens)\n",
        "\n",
        "token_counts = Counter(all_tokens)\n",
        "\n",
        "min_freq = 2\n",
        "vocab_tokens = [token for token, count in token_counts.items() if count >= min_freq]\n",
        "\n",
        "vocab = {\"<pad>\": 0, \"<unk>\": 1}\n",
        "for token in vocab_tokens:\n",
        "    vocab[token] = len(vocab)\n",
        "\n",
        "print(\"Vocab örneği:\", list(vocab.items())[:10])"
      ],
      "metadata": {
        "colab": {
          "base_uri": "https://localhost:8080/"
        },
        "id": "obIll78NIrPj",
        "outputId": "a59d3b9d-745e-4ae8-dd00-034e433fbcab"
      },
      "execution_count": 117,
      "outputs": [
        {
          "output_type": "stream",
          "name": "stdout",
          "text": [
            "Vocab örneği: [('<pad>', 0), ('<unk>', 1), ('ses', 2), ('kalitesi', 3), ('ergonomisi', 4), ('rezalet', 5), ('sony', 6), ('olduğu', 7), ('aldım', 8), ('4', 9)]\n"
          ]
        }
      ]
    },
    {
      "cell_type": "code",
      "source": [
        "def collate_fn(batch):\n",
        "    texts, labels = zip(*batch)\n",
        "    pad_idx = vocab.get(\"<pad>\", 0)\n",
        "    texts_padded = pad_sequence(texts, batch_first=True, padding_value=pad_idx)\n",
        "    labels = torch.stack(labels, dim=0)\n",
        "    return texts_padded, labels"
      ],
      "metadata": {
        "id": "wfyeHE-FN5xl"
      },
      "execution_count": 118,
      "outputs": []
    },
    {
      "cell_type": "code",
      "source": [
        "device = torch.device('cuda' if torch.cuda.is_available() else 'cpu')"
      ],
      "metadata": {
        "id": "Ur5o-Lfp5OOB"
      },
      "execution_count": 119,
      "outputs": []
    },
    {
      "cell_type": "code",
      "source": [
        "class SentimentDataset(Dataset):\n",
        "  def __init__(self, texts, labels, tokenizer, vocab, label_mapping, device):\n",
        "    self.texts = texts\n",
        "    self.labels = labels\n",
        "    self.tokenizer = tokenizer\n",
        "    self.vocab = vocab\n",
        "    self.label_mapping = label_mapping\n",
        "\n",
        "  def __len__(self):\n",
        "    return len(self.texts)\n",
        "\n",
        "  def __getitem__(self, idx):\n",
        "    text = self.texts[idx]\n",
        "    label = self.labels[idx]\n",
        "    tokens = self.tokenizer(text)\n",
        "    numericalized = [self.vocab.get(token, self.vocab.get(\"<unk>\")) for token in tokens]\n",
        "    label = self.label_mapping.get(label, 0)\n",
        "    return torch.tensor(numericalized, dtype=torch.long).to(device), torch.tensor(label, dtype=torch.long).to(device)"
      ],
      "metadata": {
        "id": "NQrBW6FIFUkA"
      },
      "execution_count": 120,
      "outputs": []
    },
    {
      "cell_type": "code",
      "source": [
        "train_dataset = SentimentDataset(df[\"Görüş\"], df[\"Durum\"], simple_tokenizer, vocab, label_mapping, device)\n",
        "train_dataloader = DataLoader(train_dataset, batch_size=32, shuffle=True, collate_fn=collate_fn)"
      ],
      "metadata": {
        "id": "bxpkzRiCH9xS"
      },
      "execution_count": 121,
      "outputs": []
    },
    {
      "cell_type": "code",
      "source": [
        "class SentimentModel(nn.Module):\n",
        "  def __init__(self, vocab_size, embedding_dim, hidden_dim, output_dim, device, n_layers=1, dropout=0.5):\n",
        "    super(SentimentModel, self).__init__()\n",
        "    self.embedding = nn.Embedding(vocab_size, embedding_dim).to(device)\n",
        "    self.lstm = nn.LSTM(embedding_dim, hidden_dim, num_layers=n_layers, batch_first=True, dropout=dropout).to(device)\n",
        "    self.fc = nn.Linear(hidden_dim, output_dim).to(device)\n",
        "    self.dropout = nn.Dropout(dropout).to(device)\n",
        "\n",
        "  def forward(self, x):\n",
        "    embedded = self.dropout(self.embedding(x))\n",
        "    output, (hidden, cell) = self.lstm(embedded)\n",
        "    hidden = self.dropout(hidden[-1,:,:])\n",
        "    return self.fc(hidden)"
      ],
      "metadata": {
        "id": "rZ7sPrmsLTly"
      },
      "execution_count": 122,
      "outputs": []
    },
    {
      "cell_type": "code",
      "source": [
        "model = SentimentModel(vocab_size=len(vocab), embedding_dim=300, hidden_dim=128, output_dim=3, device=device)\n",
        "model.to(device)\n",
        "criterion = nn.CrossEntropyLoss()\n",
        "optimizer = torch.optim.Adam(model.parameters(), lr=0.001)"
      ],
      "metadata": {
        "colab": {
          "base_uri": "https://localhost:8080/"
        },
        "id": "AhUK1mBEMD5N",
        "outputId": "208b0a05-acd1-4b1d-b406-eb7ddaa83a76"
      },
      "execution_count": 123,
      "outputs": [
        {
          "output_type": "stream",
          "name": "stderr",
          "text": [
            "/usr/local/lib/python3.11/dist-packages/torch/nn/modules/rnn.py:123: UserWarning: dropout option adds dropout after all but last recurrent layer, so non-zero dropout expects num_layers greater than 1, but got dropout=0.5 and num_layers=1\n",
            "  warnings.warn(\n"
          ]
        }
      ]
    },
    {
      "cell_type": "code",
      "source": [
        "NUM_EPOCHS = 100\n",
        "\n",
        "for epoch in range(NUM_EPOCHS):\n",
        "  model.train()\n",
        "  epoch_loss = 0.0\n",
        "  epoch_acc = 0.0\n",
        "  for texts, labels in train_dataloader:\n",
        "    optimizer.zero_grad()\n",
        "    predictions = model(texts)\n",
        "    loss = criterion(predictions, labels)\n",
        "    loss.backward()\n",
        "    optimizer.step()\n",
        "    epoch_loss += loss.item()\n",
        "  print(f\"Epoch {epoch + 1}, Loss: {epoch_loss / len(train_dataloader)}\")\n",
        "torch.save(model.state_dict(), \"sentiment_model.pt\")"
      ],
      "metadata": {
        "colab": {
          "base_uri": "https://localhost:8080/"
        },
        "id": "_cv-MW6oMSgF",
        "outputId": "2f31144c-9448-4fda-beee-beaceb7a215d"
      },
      "execution_count": 124,
      "outputs": [
        {
          "output_type": "stream",
          "name": "stdout",
          "text": [
            "Epoch 1, Loss: 1.0924673396781837\n",
            "Epoch 2, Loss: 1.0827247270658695\n",
            "Epoch 3, Loss: 1.023913972204624\n",
            "Epoch 4, Loss: 0.9071518377551819\n",
            "Epoch 5, Loss: 0.8328040503589801\n",
            "Epoch 6, Loss: 0.7825445965681662\n",
            "Epoch 7, Loss: 0.7651596622094096\n",
            "Epoch 8, Loss: 0.7357134685836024\n",
            "Epoch 9, Loss: 0.6997901503433729\n",
            "Epoch 10, Loss: 0.6853223716080522\n",
            "Epoch 11, Loss: 0.6554227840967018\n",
            "Epoch 12, Loss: 0.6354333477812772\n",
            "Epoch 13, Loss: 0.6163309894127553\n",
            "Epoch 14, Loss: 0.5939028101801539\n",
            "Epoch 15, Loss: 0.5656518188185532\n",
            "Epoch 16, Loss: 0.5534069820322804\n",
            "Epoch 17, Loss: 0.5337797910308039\n",
            "Epoch 18, Loss: 0.5199457596383947\n",
            "Epoch 19, Loss: 0.5077113557877487\n",
            "Epoch 20, Loss: 0.48265085937507324\n",
            "Epoch 21, Loss: 0.47477657089852754\n",
            "Epoch 22, Loss: 0.46383624528040435\n",
            "Epoch 23, Loss: 0.437183819086858\n",
            "Epoch 24, Loss: 0.427659462377762\n",
            "Epoch 25, Loss: 0.4178388813645813\n",
            "Epoch 26, Loss: 0.4037461483736611\n",
            "Epoch 27, Loss: 0.3951620422928027\n",
            "Epoch 28, Loss: 0.3831531784221447\n",
            "Epoch 29, Loss: 0.37564968028464796\n",
            "Epoch 30, Loss: 0.36074303773715677\n",
            "Epoch 31, Loss: 0.3599649839228092\n",
            "Epoch 32, Loss: 0.3436386341947084\n",
            "Epoch 33, Loss: 0.3418967739247077\n",
            "Epoch 34, Loss: 0.33593288906875934\n",
            "Epoch 35, Loss: 0.3275104295774545\n",
            "Epoch 36, Loss: 0.31440849379537494\n",
            "Epoch 37, Loss: 0.3167353297828296\n",
            "Epoch 38, Loss: 0.29983642534222765\n",
            "Epoch 39, Loss: 0.3067786037172685\n",
            "Epoch 40, Loss: 0.28304826524420823\n",
            "Epoch 41, Loss: 0.27352157779631087\n",
            "Epoch 42, Loss: 0.27105589230758187\n",
            "Epoch 43, Loss: 0.27981393331630605\n",
            "Epoch 44, Loss: 0.28268036386778567\n",
            "Epoch 45, Loss: 0.26125334477307033\n",
            "Epoch 46, Loss: 0.2542224704813441\n",
            "Epoch 47, Loss: 0.2559360696637597\n",
            "Epoch 48, Loss: 0.23888756154240343\n",
            "Epoch 49, Loss: 0.23620534002489552\n",
            "Epoch 50, Loss: 0.23420456755261182\n",
            "Epoch 51, Loss: 0.22710748706741374\n",
            "Epoch 52, Loss: 0.22900876644790671\n",
            "Epoch 53, Loss: 0.23164102802698255\n",
            "Epoch 54, Loss: 0.2192825260285975\n",
            "Epoch 55, Loss: 0.2146720607770222\n",
            "Epoch 56, Loss: 0.22266364805387365\n",
            "Epoch 57, Loss: 0.2111529462148732\n",
            "Epoch 58, Loss: 0.21126498144598646\n",
            "Epoch 59, Loss: 0.19982846684275227\n",
            "Epoch 60, Loss: 0.20936735181200355\n",
            "Epoch 61, Loss: 0.2010240133542193\n",
            "Epoch 62, Loss: 0.1899694982895305\n",
            "Epoch 63, Loss: 0.19785860085381227\n",
            "Epoch 64, Loss: 0.19497682423169552\n",
            "Epoch 65, Loss: 0.18479062373848767\n",
            "Epoch 66, Loss: 0.18655178520058455\n",
            "Epoch 67, Loss: 0.1843181081147417\n",
            "Epoch 68, Loss: 0.1895879447699509\n",
            "Epoch 69, Loss: 0.1820373713096094\n",
            "Epoch 70, Loss: 0.17060128012255832\n",
            "Epoch 71, Loss: 0.172656840504298\n",
            "Epoch 72, Loss: 0.16550338750070367\n",
            "Epoch 73, Loss: 0.17120881735831084\n",
            "Epoch 74, Loss: 0.1613410944379242\n",
            "Epoch 75, Loss: 0.16107709468576495\n",
            "Epoch 76, Loss: 0.1641753363532311\n",
            "Epoch 77, Loss: 0.16502423184096562\n",
            "Epoch 78, Loss: 0.16119173735685194\n",
            "Epoch 79, Loss: 0.15627776310316094\n",
            "Epoch 80, Loss: 0.15518468241441433\n",
            "Epoch 81, Loss: 0.16288547630437425\n",
            "Epoch 82, Loss: 0.14798960718456344\n",
            "Epoch 83, Loss: 0.15141480743843416\n",
            "Epoch 84, Loss: 0.14154648704860132\n",
            "Epoch 85, Loss: 0.14346358965426767\n",
            "Epoch 86, Loss: 0.14084142937673536\n",
            "Epoch 87, Loss: 0.1410213416369434\n",
            "Epoch 88, Loss: 0.1471664457732822\n",
            "Epoch 89, Loss: 0.13615900021587504\n",
            "Epoch 90, Loss: 0.1382524974971968\n",
            "Epoch 91, Loss: 0.1390188196179712\n",
            "Epoch 92, Loss: 0.13675429516012766\n",
            "Epoch 93, Loss: 0.1278414724722463\n",
            "Epoch 94, Loss: 0.12936729855455625\n",
            "Epoch 95, Loss: 0.1339702522590257\n",
            "Epoch 96, Loss: 0.13264457019847198\n",
            "Epoch 97, Loss: 0.1285215288377237\n",
            "Epoch 98, Loss: 0.12632311857012804\n",
            "Epoch 99, Loss: 0.12629991608760294\n",
            "Epoch 100, Loss: 0.12797402217203763\n"
          ]
        }
      ]
    },
    {
      "cell_type": "code",
      "source": [
        "test_input = input(\"Enter a any text: \")\n",
        "tokens = simple_tokenizer(test_input)\n",
        "numericalized = [vocab.get(token, vocab.get(\"<unk>\")) for token in tokens]\n",
        "input_tensor = torch.tensor(numericalized, dtype=torch.long).unsqueeze(0)\n",
        "input_tensor = input_tensor.to(device)\n",
        "model.to(device)\n",
        "with torch.no_grad():\n",
        "    output = model(input_tensor)\n",
        "    predicted_class = torch.argmax(output, dim=1).item()\n",
        "label_mapping_reverse = {\n",
        "  0: \"Olumsuz\",\n",
        "  1: \"Tarafsız\",\n",
        "  2: \"Olumlu\"\n",
        "}\n",
        "print(label_mapping_reverse[predicted_class])"
      ],
      "metadata": {
        "colab": {
          "base_uri": "https://localhost:8080/"
        },
        "id": "glP2lajmNBTo",
        "outputId": "900f0f4d-e63c-437b-fe72-4a0e95fbe669"
      },
      "execution_count": 125,
      "outputs": [
        {
          "output_type": "stream",
          "name": "stdout",
          "text": [
            "Enter a any text: ürün elime çok hızlı ulaştı\n",
            "Olumlu\n"
          ]
        }
      ]
    },
    {
      "cell_type": "code",
      "source": [],
      "metadata": {
        "id": "9qyPbH1bQ1uR"
      },
      "execution_count": null,
      "outputs": []
    }
  ]
}