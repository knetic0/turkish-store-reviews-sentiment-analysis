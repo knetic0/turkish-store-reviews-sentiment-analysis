{
  "nbformat": 4,
  "nbformat_minor": 0,
  "metadata": {
    "colab": {
      "provenance": [],
      "gpuType": "T4",
      "authorship_tag": "ABX9TyNjDZ6YyXnEh9y+5Jr4Cah0",
      "include_colab_link": true
    },
    "kernelspec": {
      "name": "python3",
      "display_name": "Python 3"
    },
    "language_info": {
      "name": "python"
    },
    "accelerator": "GPU"
  },
  "cells": [
    {
      "cell_type": "markdown",
      "metadata": {
        "id": "view-in-github",
        "colab_type": "text"
      },
      "source": [
        "<a href=\"https://colab.research.google.com/github/knetic0/turkish-store-reviews-sentiment-analysis/blob/master/turkish_sentiment_analysis.ipynb\" target=\"_parent\"><img src=\"https://colab.research.google.com/assets/colab-badge.svg\" alt=\"Open In Colab\"/></a>"
      ]
    },
    {
      "cell_type": "code",
      "execution_count": null,
      "metadata": {
        "colab": {
          "base_uri": "https://localhost:8080/"
        },
        "id": "xm5Nxn-0DK5v",
        "outputId": "30ea23c8-bc2f-4974-e333-7328f8635b54"
      },
      "outputs": [
        {
          "output_type": "stream",
          "name": "stderr",
          "text": [
            "[nltk_data] Downloading package stopwords to /root/nltk_data...\n",
            "[nltk_data]   Unzipping corpora/stopwords.zip.\n"
          ]
        }
      ],
      "source": [
        "import pandas as pd\n",
        "import chardet\n",
        "import re\n",
        "from collections import Counter\n",
        "import torch\n",
        "import torch.nn as nn\n",
        "from torch.nn.utils.rnn import pad_sequence\n",
        "from torch.utils.data import Dataset, DataLoader\n",
        "import nltk\n",
        "nltk.download(\"stopwords\")\n",
        "from nltk.corpus import stopwords"
      ]
    },
    {
      "cell_type": "code",
      "source": [
        "file_path = \"./sample_data/magaza_yorumlari_duygu_analizi.csv\"\n",
        "\n",
        "with open(file_path, 'rb') as f:\n",
        "  result = chardet.detect(f.read(1000))\n",
        "\n",
        "df = pd.read_csv(file_path, encoding=result[\"encoding\"])\n",
        "\n",
        "df.head()"
      ],
      "metadata": {
        "colab": {
          "base_uri": "https://localhost:8080/",
          "height": 206
        },
        "id": "5JPqB7KHDdVA",
        "outputId": "abac349b-1d6a-430c-821a-427316a898a9"
      },
      "execution_count": null,
      "outputs": [
        {
          "output_type": "execute_result",
          "data": {
            "text/plain": [
              "                                               Görüş     Durum\n",
              "0  ses kalitesi ve ergonomisi rezalet, sony olduğ...   Olumsuz\n",
              "1                         hizli teslimat tesekkürler  Tarafsız\n",
              "2  ses olayı süper....gece çalıştır sıkıntı yok.....    Olumlu\n",
              "3  geldi bigün kullandık hemen bozoldu hiçtavsiye...   Olumsuz\n",
              "4  Kulaklığın sesi kaliteli falan değil. Aleti öv...   Olumsuz"
            ],
            "text/html": [
              "\n",
              "  <div id=\"df-eb216f40-d8b5-49ab-94c7-88223ddcef9a\" class=\"colab-df-container\">\n",
              "    <div>\n",
              "<style scoped>\n",
              "    .dataframe tbody tr th:only-of-type {\n",
              "        vertical-align: middle;\n",
              "    }\n",
              "\n",
              "    .dataframe tbody tr th {\n",
              "        vertical-align: top;\n",
              "    }\n",
              "\n",
              "    .dataframe thead th {\n",
              "        text-align: right;\n",
              "    }\n",
              "</style>\n",
              "<table border=\"1\" class=\"dataframe\">\n",
              "  <thead>\n",
              "    <tr style=\"text-align: right;\">\n",
              "      <th></th>\n",
              "      <th>Görüş</th>\n",
              "      <th>Durum</th>\n",
              "    </tr>\n",
              "  </thead>\n",
              "  <tbody>\n",
              "    <tr>\n",
              "      <th>0</th>\n",
              "      <td>ses kalitesi ve ergonomisi rezalet, sony olduğ...</td>\n",
              "      <td>Olumsuz</td>\n",
              "    </tr>\n",
              "    <tr>\n",
              "      <th>1</th>\n",
              "      <td>hizli teslimat tesekkürler</td>\n",
              "      <td>Tarafsız</td>\n",
              "    </tr>\n",
              "    <tr>\n",
              "      <th>2</th>\n",
              "      <td>ses olayı süper....gece çalıştır sıkıntı yok.....</td>\n",
              "      <td>Olumlu</td>\n",
              "    </tr>\n",
              "    <tr>\n",
              "      <th>3</th>\n",
              "      <td>geldi bigün kullandık hemen bozoldu hiçtavsiye...</td>\n",
              "      <td>Olumsuz</td>\n",
              "    </tr>\n",
              "    <tr>\n",
              "      <th>4</th>\n",
              "      <td>Kulaklığın sesi kaliteli falan değil. Aleti öv...</td>\n",
              "      <td>Olumsuz</td>\n",
              "    </tr>\n",
              "  </tbody>\n",
              "</table>\n",
              "</div>\n",
              "    <div class=\"colab-df-buttons\">\n",
              "\n",
              "  <div class=\"colab-df-container\">\n",
              "    <button class=\"colab-df-convert\" onclick=\"convertToInteractive('df-eb216f40-d8b5-49ab-94c7-88223ddcef9a')\"\n",
              "            title=\"Convert this dataframe to an interactive table.\"\n",
              "            style=\"display:none;\">\n",
              "\n",
              "  <svg xmlns=\"http://www.w3.org/2000/svg\" height=\"24px\" viewBox=\"0 -960 960 960\">\n",
              "    <path d=\"M120-120v-720h720v720H120Zm60-500h600v-160H180v160Zm220 220h160v-160H400v160Zm0 220h160v-160H400v160ZM180-400h160v-160H180v160Zm440 0h160v-160H620v160ZM180-180h160v-160H180v160Zm440 0h160v-160H620v160Z\"/>\n",
              "  </svg>\n",
              "    </button>\n",
              "\n",
              "  <style>\n",
              "    .colab-df-container {\n",
              "      display:flex;\n",
              "      gap: 12px;\n",
              "    }\n",
              "\n",
              "    .colab-df-convert {\n",
              "      background-color: #E8F0FE;\n",
              "      border: none;\n",
              "      border-radius: 50%;\n",
              "      cursor: pointer;\n",
              "      display: none;\n",
              "      fill: #1967D2;\n",
              "      height: 32px;\n",
              "      padding: 0 0 0 0;\n",
              "      width: 32px;\n",
              "    }\n",
              "\n",
              "    .colab-df-convert:hover {\n",
              "      background-color: #E2EBFA;\n",
              "      box-shadow: 0px 1px 2px rgba(60, 64, 67, 0.3), 0px 1px 3px 1px rgba(60, 64, 67, 0.15);\n",
              "      fill: #174EA6;\n",
              "    }\n",
              "\n",
              "    .colab-df-buttons div {\n",
              "      margin-bottom: 4px;\n",
              "    }\n",
              "\n",
              "    [theme=dark] .colab-df-convert {\n",
              "      background-color: #3B4455;\n",
              "      fill: #D2E3FC;\n",
              "    }\n",
              "\n",
              "    [theme=dark] .colab-df-convert:hover {\n",
              "      background-color: #434B5C;\n",
              "      box-shadow: 0px 1px 3px 1px rgba(0, 0, 0, 0.15);\n",
              "      filter: drop-shadow(0px 1px 2px rgba(0, 0, 0, 0.3));\n",
              "      fill: #FFFFFF;\n",
              "    }\n",
              "  </style>\n",
              "\n",
              "    <script>\n",
              "      const buttonEl =\n",
              "        document.querySelector('#df-eb216f40-d8b5-49ab-94c7-88223ddcef9a button.colab-df-convert');\n",
              "      buttonEl.style.display =\n",
              "        google.colab.kernel.accessAllowed ? 'block' : 'none';\n",
              "\n",
              "      async function convertToInteractive(key) {\n",
              "        const element = document.querySelector('#df-eb216f40-d8b5-49ab-94c7-88223ddcef9a');\n",
              "        const dataTable =\n",
              "          await google.colab.kernel.invokeFunction('convertToInteractive',\n",
              "                                                    [key], {});\n",
              "        if (!dataTable) return;\n",
              "\n",
              "        const docLinkHtml = 'Like what you see? Visit the ' +\n",
              "          '<a target=\"_blank\" href=https://colab.research.google.com/notebooks/data_table.ipynb>data table notebook</a>'\n",
              "          + ' to learn more about interactive tables.';\n",
              "        element.innerHTML = '';\n",
              "        dataTable['output_type'] = 'display_data';\n",
              "        await google.colab.output.renderOutput(dataTable, element);\n",
              "        const docLink = document.createElement('div');\n",
              "        docLink.innerHTML = docLinkHtml;\n",
              "        element.appendChild(docLink);\n",
              "      }\n",
              "    </script>\n",
              "  </div>\n",
              "\n",
              "\n",
              "<div id=\"df-c5b87a8d-d7b6-41b9-9289-92c5d206390b\">\n",
              "  <button class=\"colab-df-quickchart\" onclick=\"quickchart('df-c5b87a8d-d7b6-41b9-9289-92c5d206390b')\"\n",
              "            title=\"Suggest charts\"\n",
              "            style=\"display:none;\">\n",
              "\n",
              "<svg xmlns=\"http://www.w3.org/2000/svg\" height=\"24px\"viewBox=\"0 0 24 24\"\n",
              "     width=\"24px\">\n",
              "    <g>\n",
              "        <path d=\"M19 3H5c-1.1 0-2 .9-2 2v14c0 1.1.9 2 2 2h14c1.1 0 2-.9 2-2V5c0-1.1-.9-2-2-2zM9 17H7v-7h2v7zm4 0h-2V7h2v10zm4 0h-2v-4h2v4z\"/>\n",
              "    </g>\n",
              "</svg>\n",
              "  </button>\n",
              "\n",
              "<style>\n",
              "  .colab-df-quickchart {\n",
              "      --bg-color: #E8F0FE;\n",
              "      --fill-color: #1967D2;\n",
              "      --hover-bg-color: #E2EBFA;\n",
              "      --hover-fill-color: #174EA6;\n",
              "      --disabled-fill-color: #AAA;\n",
              "      --disabled-bg-color: #DDD;\n",
              "  }\n",
              "\n",
              "  [theme=dark] .colab-df-quickchart {\n",
              "      --bg-color: #3B4455;\n",
              "      --fill-color: #D2E3FC;\n",
              "      --hover-bg-color: #434B5C;\n",
              "      --hover-fill-color: #FFFFFF;\n",
              "      --disabled-bg-color: #3B4455;\n",
              "      --disabled-fill-color: #666;\n",
              "  }\n",
              "\n",
              "  .colab-df-quickchart {\n",
              "    background-color: var(--bg-color);\n",
              "    border: none;\n",
              "    border-radius: 50%;\n",
              "    cursor: pointer;\n",
              "    display: none;\n",
              "    fill: var(--fill-color);\n",
              "    height: 32px;\n",
              "    padding: 0;\n",
              "    width: 32px;\n",
              "  }\n",
              "\n",
              "  .colab-df-quickchart:hover {\n",
              "    background-color: var(--hover-bg-color);\n",
              "    box-shadow: 0 1px 2px rgba(60, 64, 67, 0.3), 0 1px 3px 1px rgba(60, 64, 67, 0.15);\n",
              "    fill: var(--button-hover-fill-color);\n",
              "  }\n",
              "\n",
              "  .colab-df-quickchart-complete:disabled,\n",
              "  .colab-df-quickchart-complete:disabled:hover {\n",
              "    background-color: var(--disabled-bg-color);\n",
              "    fill: var(--disabled-fill-color);\n",
              "    box-shadow: none;\n",
              "  }\n",
              "\n",
              "  .colab-df-spinner {\n",
              "    border: 2px solid var(--fill-color);\n",
              "    border-color: transparent;\n",
              "    border-bottom-color: var(--fill-color);\n",
              "    animation:\n",
              "      spin 1s steps(1) infinite;\n",
              "  }\n",
              "\n",
              "  @keyframes spin {\n",
              "    0% {\n",
              "      border-color: transparent;\n",
              "      border-bottom-color: var(--fill-color);\n",
              "      border-left-color: var(--fill-color);\n",
              "    }\n",
              "    20% {\n",
              "      border-color: transparent;\n",
              "      border-left-color: var(--fill-color);\n",
              "      border-top-color: var(--fill-color);\n",
              "    }\n",
              "    30% {\n",
              "      border-color: transparent;\n",
              "      border-left-color: var(--fill-color);\n",
              "      border-top-color: var(--fill-color);\n",
              "      border-right-color: var(--fill-color);\n",
              "    }\n",
              "    40% {\n",
              "      border-color: transparent;\n",
              "      border-right-color: var(--fill-color);\n",
              "      border-top-color: var(--fill-color);\n",
              "    }\n",
              "    60% {\n",
              "      border-color: transparent;\n",
              "      border-right-color: var(--fill-color);\n",
              "    }\n",
              "    80% {\n",
              "      border-color: transparent;\n",
              "      border-right-color: var(--fill-color);\n",
              "      border-bottom-color: var(--fill-color);\n",
              "    }\n",
              "    90% {\n",
              "      border-color: transparent;\n",
              "      border-bottom-color: var(--fill-color);\n",
              "    }\n",
              "  }\n",
              "</style>\n",
              "\n",
              "  <script>\n",
              "    async function quickchart(key) {\n",
              "      const quickchartButtonEl =\n",
              "        document.querySelector('#' + key + ' button');\n",
              "      quickchartButtonEl.disabled = true;  // To prevent multiple clicks.\n",
              "      quickchartButtonEl.classList.add('colab-df-spinner');\n",
              "      try {\n",
              "        const charts = await google.colab.kernel.invokeFunction(\n",
              "            'suggestCharts', [key], {});\n",
              "      } catch (error) {\n",
              "        console.error('Error during call to suggestCharts:', error);\n",
              "      }\n",
              "      quickchartButtonEl.classList.remove('colab-df-spinner');\n",
              "      quickchartButtonEl.classList.add('colab-df-quickchart-complete');\n",
              "    }\n",
              "    (() => {\n",
              "      let quickchartButtonEl =\n",
              "        document.querySelector('#df-c5b87a8d-d7b6-41b9-9289-92c5d206390b button');\n",
              "      quickchartButtonEl.style.display =\n",
              "        google.colab.kernel.accessAllowed ? 'block' : 'none';\n",
              "    })();\n",
              "  </script>\n",
              "</div>\n",
              "\n",
              "    </div>\n",
              "  </div>\n"
            ],
            "application/vnd.google.colaboratory.intrinsic+json": {
              "type": "dataframe",
              "variable_name": "df",
              "summary": "{\n  \"name\": \"df\",\n  \"rows\": 11429,\n  \"fields\": [\n    {\n      \"column\": \"G\\u00f6r\\u00fc\\u015f\",\n      \"properties\": {\n        \"dtype\": \"string\",\n        \"num_unique_values\": 11407,\n        \"samples\": [\n          \"Urunde bir sikinti yoktu ama klavye ingilizce klavye olarak reklam edilmis. Urunun Foto\\u011fraflarinda da ingilizce klavye olarak gotuluyordu fakat turkce klavye geldi.\",\n          \"\\u00fcr\\u00fcn\\u00fc gold master diye ald\\u0131m. 10 y\\u0131l garantili. televizyona takt\\u0131m. hdm\\u0131\\nolarak kullan\\u0131yorum. ancak arada uydu \\u00e7al\\u0131\\u015fm\\u0131yor. kablolar\\u0131n\\u0131 c\\u0131kar\\u0131p\\ntak\\u0131yorum d\\u00fczeliyor. ancak ar\\u0131zal\\u0131. servisine g\\u00f6t\\u00fcrmekle ugrasamad\\u0131m.\\nkenarda \\u00f6ylece duruyor.\",\n          \"Bir sene olmad\\u0131 ayar d\\u00fc\\u011fmesine bas\\u0131yorum ekran gidip geliyor\"\n        ],\n        \"semantic_type\": \"\",\n        \"description\": \"\"\n      }\n    },\n    {\n      \"column\": \"Durum\",\n      \"properties\": {\n        \"dtype\": \"category\",\n        \"num_unique_values\": 3,\n        \"samples\": [\n          \"Olumsuz\",\n          \"Tarafs\\u0131z\",\n          \"Olumlu\"\n        ],\n        \"semantic_type\": \"\",\n        \"description\": \"\"\n      }\n    }\n  ]\n}"
            }
          },
          "metadata": {},
          "execution_count": 103
        }
      ]
    },
    {
      "cell_type": "code",
      "source": [
        "df.dropna(inplace=True)\n",
        "df.reset_index(drop=True, inplace=True)\n",
        "\n",
        "print(\"First 5 Row: \")\n",
        "print(df.head())\n",
        "\n",
        "print(\"*\"*25)\n",
        "\n",
        "print(\"Describe about Dataset: \")\n",
        "print(df.describe())\n",
        "\n",
        "print(\"*\"*25)\n",
        "\n",
        "print(\"Unique values of Situation: \")\n",
        "print(df[\"Durum\"].unique())"
      ],
      "metadata": {
        "colab": {
          "base_uri": "https://localhost:8080/"
        },
        "id": "yWbbefzCDg0B",
        "outputId": "c2a826a1-c86e-4c4e-b66d-e8946acbea69"
      },
      "execution_count": null,
      "outputs": [
        {
          "output_type": "stream",
          "name": "stdout",
          "text": [
            "First 5 Row: \n",
            "                                               Görüş     Durum\n",
            "0  ses kalitesi ve ergonomisi rezalet, sony olduğ...   Olumsuz\n",
            "1                         hizli teslimat tesekkürler  Tarafsız\n",
            "2  ses olayı süper....gece çalıştır sıkıntı yok.....    Olumlu\n",
            "3  geldi bigün kullandık hemen bozoldu hiçtavsiye...   Olumsuz\n",
            "4  Kulaklığın sesi kaliteli falan değil. Aleti öv...   Olumsuz\n",
            "*************************\n",
            "Describe about Dataset: \n",
            "             Görüş   Durum\n",
            "count        11426   11426\n",
            "unique       11407       3\n",
            "top     İdare eder  Olumlu\n",
            "freq             3    4252\n",
            "*************************\n",
            "Unique values of Situation: \n",
            "['Olumsuz' 'Tarafsız' 'Olumlu']\n"
          ]
        }
      ]
    },
    {
      "cell_type": "markdown",
      "source": [
        "- Olumsuz -> 0\n",
        "- Tarafsiz -> 1\n",
        "- Olumlu -> 2\n"
      ],
      "metadata": {
        "id": "CASbuqUzFXzC"
      }
    },
    {
      "cell_type": "code",
      "source": [
        "label_mapping = {\n",
        "    \"Olumsuz\": 0,\n",
        "    \"Tarafsız\": 1,\n",
        "    \"Olumlu\": 2\n",
        "}"
      ],
      "metadata": {
        "id": "hVw7lzf7NN4N"
      },
      "execution_count": null,
      "outputs": []
    },
    {
      "cell_type": "code",
      "source": [
        "def simple_tokenizer(text:str):\n",
        "    text = text.lower()\n",
        "    tokens = re.findall(r'\\b\\w+\\b', text)\n",
        "    return tokens"
      ],
      "metadata": {
        "id": "MMTiw_XzIcVf"
      },
      "execution_count": null,
      "outputs": []
    },
    {
      "cell_type": "code",
      "source": [
        "turkish_stopwords = set(stopwords.words(\"turkish\"))\n",
        "\n",
        "all_tokens = []\n",
        "for text in df[\"Görüş\"]:\n",
        "    tokens = simple_tokenizer(text)\n",
        "    tokens = [token for token in tokens if token not in turkish_stopwords]\n",
        "    all_tokens.extend(tokens)\n",
        "\n",
        "token_counts = Counter(all_tokens)\n",
        "\n",
        "min_freq = 2\n",
        "vocab_tokens = [token for token, count in token_counts.items() if count >= min_freq]\n",
        "\n",
        "vocab = {\"<pad>\": 0, \"<unk>\": 1}\n",
        "for token in vocab_tokens:\n",
        "    vocab[token] = len(vocab)\n",
        "\n",
        "print(\"Vocab örneği:\", list(vocab.items())[:10])"
      ],
      "metadata": {
        "colab": {
          "base_uri": "https://localhost:8080/"
        },
        "id": "obIll78NIrPj",
        "outputId": "3fe0ee68-1225-4cb7-bec5-3e9248b5d9ef"
      },
      "execution_count": null,
      "outputs": [
        {
          "output_type": "stream",
          "name": "stdout",
          "text": [
            "Vocab örneği: [('<pad>', 0), ('<unk>', 1), ('ses', 2), ('kalitesi', 3), ('ergonomisi', 4), ('rezalet', 5), ('sony', 6), ('olduğu', 7), ('aldım', 8), ('4', 9)]\n"
          ]
        }
      ]
    },
    {
      "cell_type": "code",
      "source": [
        "def collate_fn(batch):\n",
        "    texts, labels = zip(*batch)\n",
        "    pad_idx = vocab.get(\"<pad>\", 0)\n",
        "    texts_padded = pad_sequence(texts, batch_first=True, padding_value=pad_idx)\n",
        "    labels = torch.stack(labels, dim=0)\n",
        "    return texts_padded, labels"
      ],
      "metadata": {
        "id": "wfyeHE-FN5xl"
      },
      "execution_count": null,
      "outputs": []
    },
    {
      "cell_type": "code",
      "source": [
        "class SentimentDataset(Dataset):\n",
        "  def __init__(self, texts, labels, tokenizer, vocab, label_mapping):\n",
        "    self.texts = texts\n",
        "    self.labels = labels\n",
        "    self.tokenizer = tokenizer\n",
        "    self.vocab = vocab\n",
        "    self.label_mapping = label_mapping\n",
        "\n",
        "  def __len__(self):\n",
        "    return len(self.texts)\n",
        "\n",
        "  def __getitem__(self, idx):\n",
        "    text = self.texts[idx]\n",
        "    label = self.labels[idx]\n",
        "    tokens = self.tokenizer(text)\n",
        "    numericalized = [self.vocab.get(token, self.vocab.get(\"<unk>\")) for token in tokens]\n",
        "    label = self.label_mapping.get(label, 0)\n",
        "    return torch.tensor(numericalized, dtype=torch.long), torch.tensor(label, dtype=torch.long)"
      ],
      "metadata": {
        "id": "NQrBW6FIFUkA"
      },
      "execution_count": null,
      "outputs": []
    },
    {
      "cell_type": "code",
      "source": [
        "train_dataset = SentimentDataset(df[\"Görüş\"], df[\"Durum\"], simple_tokenizer, vocab, label_mapping)\n",
        "train_dataloader = DataLoader(train_dataset, batch_size=32, shuffle=True, collate_fn=collate_fn)"
      ],
      "metadata": {
        "id": "bxpkzRiCH9xS"
      },
      "execution_count": null,
      "outputs": []
    },
    {
      "cell_type": "code",
      "source": [
        "class SentimentModel(nn.Module):\n",
        "  def __init__(self, vocab_size, embedding_dim, hidden_dim, output_dim, n_layers=1, dropout=0.5):\n",
        "    super(SentimentModel, self).__init__()\n",
        "    self.embedding = nn.Embedding(vocab_size, embedding_dim)\n",
        "    self.lstm = nn.LSTM(embedding_dim, hidden_dim, num_layers=n_layers, batch_first=True, dropout=dropout)\n",
        "    self.fc = nn.Linear(hidden_dim, output_dim)\n",
        "    self.dropout = nn.Dropout(dropout)\n",
        "\n",
        "  def forward(self, x):\n",
        "    embedded = self.dropout(self.embedding(x))\n",
        "    output, (hidden, cell) = self.lstm(embedded)\n",
        "    hidden = self.dropout(hidden[-1,:,:])\n",
        "    return self.fc(hidden)"
      ],
      "metadata": {
        "id": "rZ7sPrmsLTly"
      },
      "execution_count": null,
      "outputs": []
    },
    {
      "cell_type": "code",
      "source": [
        "model = SentimentModel(vocab_size=len(vocab), embedding_dim=256, hidden_dim=128, output_dim=3)\n",
        "device = torch.device('cuda' if torch.cuda.is_available() else 'cpu')\n",
        "criterion = nn.CrossEntropyLoss()\n",
        "optimizer = torch.optim.Adam(model.parameters(), lr=1e-3)"
      ],
      "metadata": {
        "colab": {
          "base_uri": "https://localhost:8080/"
        },
        "id": "AhUK1mBEMD5N",
        "outputId": "a04d748e-b08f-4077-f61b-e780fd561790"
      },
      "execution_count": null,
      "outputs": [
        {
          "output_type": "stream",
          "name": "stderr",
          "text": [
            "/usr/local/lib/python3.11/dist-packages/torch/nn/modules/rnn.py:123: UserWarning: dropout option adds dropout after all but last recurrent layer, so non-zero dropout expects num_layers greater than 1, but got dropout=0.5 and num_layers=1\n",
            "  warnings.warn(\n"
          ]
        }
      ]
    },
    {
      "cell_type": "code",
      "source": [
        "NUM_EPOCHS = 10\n",
        "\n",
        "for epoch in range(NUM_EPOCHS):\n",
        "  model.train()\n",
        "  epoch_loss = 0.0\n",
        "  epoch_acc = 0.0\n",
        "  for texts, labels in train_dataloader:\n",
        "    optimizer.zero_grad()\n",
        "    predictions = model(texts)\n",
        "    loss = criterion(predictions, labels)\n",
        "    loss.backward()\n",
        "    optimizer.step()\n",
        "    epoch_loss += loss.item()\n",
        "  print(f\"Epoch {epoch + 1}, Loss: {epoch_loss / len(train_dataloader)}\")\n",
        "  torch.save(model.state_dict(), \"sentiment_model.pt\")"
      ],
      "metadata": {
        "colab": {
          "base_uri": "https://localhost:8080/"
        },
        "id": "_cv-MW6oMSgF",
        "outputId": "ed3228f9-b13a-4743-91ce-024b76b651a2"
      },
      "execution_count": null,
      "outputs": [
        {
          "output_type": "stream",
          "name": "stdout",
          "text": [
            "Epoch 1, Loss: 1.0929134501425248\n",
            "Epoch 2, Loss: 1.0853954879931231\n",
            "Epoch 3, Loss: 1.082852466812347\n",
            "Epoch 4, Loss: 1.0575701041594563\n",
            "Epoch 5, Loss: 0.946947363335327\n",
            "Epoch 6, Loss: 0.8406131429878693\n",
            "Epoch 7, Loss: 0.8014642165859318\n",
            "Epoch 8, Loss: 0.754678580681039\n",
            "Epoch 9, Loss: 0.7229716821922271\n",
            "Epoch 10, Loss: 0.6930866171527841\n"
          ]
        }
      ]
    },
    {
      "cell_type": "code",
      "source": [
        "test_input = input(\"Enter a any text: \")\n",
        "tokens = simple_tokenizer(test_input)\n",
        "numericalized = [vocab.get(token, vocab.get(\"<unk>\")) for token in tokens]\n",
        "input_tensor = torch.tensor(numericalized, dtype=torch.long).unsqueeze(0)\n",
        "input_tensor = input_tensor.to(device)\n",
        "model.to(device)\n",
        "with torch.no_grad():\n",
        "    output = model(input_tensor)\n",
        "    predicted_class = torch.argmax(output, dim=1).item()\n",
        "label_mapping_reverse = {\n",
        "  0: \"Olumsuz\",\n",
        "  1: \"Tarafsız\",\n",
        "  2: \"Olumlu\"\n",
        "}\n",
        "print(label_mapping_reverse[predicted_class])"
      ],
      "metadata": {
        "colab": {
          "base_uri": "https://localhost:8080/"
        },
        "id": "glP2lajmNBTo",
        "outputId": "0b1a738f-250c-4be3-f6f9-217f649da36f"
      },
      "execution_count": null,
      "outputs": [
        {
          "output_type": "stream",
          "name": "stdout",
          "text": [
            "Enter a any text: çok sevdiğim bir ürün oldu\n",
            "Olumlu\n"
          ]
        }
      ]
    },
    {
      "cell_type": "code",
      "source": [],
      "metadata": {
        "id": "9qyPbH1bQ1uR"
      },
      "execution_count": null,
      "outputs": []
    }
  ]
}